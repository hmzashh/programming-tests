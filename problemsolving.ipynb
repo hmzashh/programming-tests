{
  "nbformat": 4,
  "nbformat_minor": 0,
  "metadata": {
    "colab": {
      "provenance": [],
      "toc_visible": true,
      "authorship_tag": "ABX9TyO3GlkpIhT8XVRbJ9KJMLJq",
      "include_colab_link": true
    },
    "kernelspec": {
      "name": "python3",
      "display_name": "Python 3"
    },
    "language_info": {
      "name": "python"
    }
  },
  "cells": [
    {
      "cell_type": "markdown",
      "metadata": {
        "id": "view-in-github",
        "colab_type": "text"
      },
      "source": [
        "<a href=\"https://colab.research.google.com/github/hmzashh/programming-tests/blob/main/problemsolving.ipynb\" target=\"_parent\"><img src=\"https://colab.research.google.com/assets/colab-badge.svg\" alt=\"Open In Colab\"/></a>"
      ]
    },
    {
      "cell_type": "markdown",
      "source": [
        "**python practical problem solving\n"
      ],
      "metadata": {
        "id": "LCDOggyEJbFY"
      }
    },
    {
      "cell_type": "markdown",
      "source": [
        "\n",
        "\n",
        "# **List**"
      ],
      "metadata": {
        "id": "_lNkvVqWJzqh"
      }
    },
    {
      "cell_type": "code",
      "source": [
        "#creat a list containing numbers frio 1 to 10 and print only the even number\n",
        "list1=[1,2,3,4,5,6,7,8,9,10]\n",
        "for i in list1:\n",
        "  if i%2==0:\n",
        "    print(i)"
      ],
      "metadata": {
        "colab": {
          "base_uri": "https://localhost:8080/"
        },
        "id": "q2gVNwmYJyMl",
        "outputId": "032fc25e-b708-4370-cacb-1e6e102d6184"
      },
      "execution_count": 2,
      "outputs": [
        {
          "output_type": "stream",
          "name": "stdout",
          "text": [
            "2\n",
            "4\n",
            "6\n",
            "8\n",
            "10\n"
          ]
        }
      ]
    },
    {
      "cell_type": "code",
      "source": [
        "#write function that takes 2 lists and returns a list of common elements\n",
        "list1=[1,2,3,4,5,6]\n",
        "list2=[4,5,6,7,8,9]\n",
        "for i in list1:\n",
        "  for j in list2:\n",
        "    if i==j:\n",
        "      print(i)"
      ],
      "metadata": {
        "colab": {
          "base_uri": "https://localhost:8080/"
        },
        "id": "xsJ7HjZEKYU2",
        "outputId": "176a40c6-7c32-4a9f-a672-264654d6bade"
      },
      "execution_count": 3,
      "outputs": [
        {
          "output_type": "stream",
          "name": "stdout",
          "text": [
            "4\n",
            "5\n",
            "6\n"
          ]
        }
      ]
    },
    {
      "cell_type": "code",
      "source": [
        "#reverse a list without using reverse or slicing\n",
        "list1=[5,6,7,4,3,1]\n",
        "for i in list1:\n",
        ""
      ],
      "metadata": {
        "colab": {
          "base_uri": "https://localhost:8080/"
        },
        "id": "i4-EjXdTLC7C",
        "outputId": "0c3c5303-de4e-45a5-fe47-acde17dc1660"
      },
      "execution_count": 5,
      "outputs": [
        {
          "output_type": "stream",
          "name": "stdout",
          "text": [
            "[1, 3, 4, 7, 6, 5]\n",
            "[1, 3, 4, 7, 6, 5]\n",
            "[1, 3, 4, 7, 6, 5]\n",
            "[1, 3, 4, 7, 6, 5]\n",
            "[1, 3, 4, 7, 6, 5]\n",
            "[1, 3, 4, 7, 6, 5]\n"
          ]
        }
      ]
    },
    {
      "cell_type": "code",
      "source": [
        "#calculate the sum of all elements in listwithout using sum()\n",
        "list1=[1,2,5,4,8,7]\n",
        "summ=0\n",
        "for i in list1:\n",
        "  summ=summ+i\n",
        "print(summ)\n"
      ],
      "metadata": {
        "colab": {
          "base_uri": "https://localhost:8080/"
        },
        "id": "uRq-gUn4L1L2",
        "outputId": "94234900-3cbf-4830-d33a-9dc0e153bd00"
      },
      "execution_count": 6,
      "outputs": [
        {
          "output_type": "stream",
          "name": "stdout",
          "text": [
            "27\n"
          ]
        }
      ]
    },
    {
      "cell_type": "code",
      "source": [
        "#find the second largest number in a list\n",
        "list1=[9,5,1,5,1,2,3,7]\n",
        "list1=list(set(list1))\n",
        "list1.sort(reverse=True)\n",
        "print(list1)\n",
        "print(list1[1])"
      ],
      "metadata": {
        "colab": {
          "base_uri": "https://localhost:8080/"
        },
        "id": "wEZqboqGMTJI",
        "outputId": "4bc1402c-ac8c-4803-ce12-9d831cc67eee"
      },
      "execution_count": 16,
      "outputs": [
        {
          "output_type": "stream",
          "name": "stdout",
          "text": [
            "[9, 7, 5, 3, 2, 1]\n",
            "7\n"
          ]
        }
      ]
    },
    {
      "cell_type": "markdown",
      "source": [
        "# **Tuple**"
      ],
      "metadata": {
        "id": "7tDkPFXpOeu7"
      }
    },
    {
      "cell_type": "code",
      "source": [
        "#create a tuple with 5 numbers.print the maximum and minimum numbers without using max an min\n",
        "tup1=(1,2,3,8,7)\n",
        "maxvalue=i\n",
        "minvalue=i\n",
        "for i in tup1:\n",
        "  if i>maxvalue:\n",
        "    maxvalue=i\n",
        "  if i<minvalue:\n",
        "    minvalue=i\n",
        "print(maxvalue)\n",
        "print(minvalue)"
      ],
      "metadata": {
        "colab": {
          "base_uri": "https://localhost:8080/"
        },
        "id": "f-2AZZObOh6C",
        "outputId": "bb4da6ff-ed07-4ba5-fcff-99b863bfbc22"
      },
      "execution_count": 19,
      "outputs": [
        {
          "output_type": "stream",
          "name": "stdout",
          "text": [
            "8\n",
            "1\n"
          ]
        }
      ]
    },
    {
      "cell_type": "code",
      "source": [
        "#write a function that swapthe first and last elements of a tuple\n",
        "\n",
        "tup1=(1,2,3,4,5,6)\n",
        "\n",
        "\n",
        "def swap(x):\n",
        "  tup2=list(x)\n",
        "  print(tup2[-1])\n",
        "  print(tup2[0])\n",
        "  a=tup2[-1]\n",
        "  b=tup2[0]\n",
        "  tup2[0]=a\n",
        "  tup2[-1]=b\n",
        "  tup3=tuple(tup2)\n",
        "  print(tup3)\n",
        "\n",
        "swap(tup1)"
      ],
      "metadata": {
        "colab": {
          "base_uri": "https://localhost:8080/"
        },
        "id": "xZZzdL0gPik8",
        "outputId": "72628ffa-470e-4452-e5ff-c16df587c2f5"
      },
      "execution_count": 30,
      "outputs": [
        {
          "output_type": "stream",
          "name": "stdout",
          "text": [
            "6\n",
            "1\n",
            "(6, 2, 3, 4, 5, 1)\n"
          ]
        }
      ]
    },
    {
      "cell_type": "code",
      "source": [
        "#convert a tuple into a list ,sort it and convertback to tuple\n",
        "tup1=(1,5,7,4,3,6,9)\n",
        "a=list(tup1)\n",
        "print(a)\n",
        "\n",
        "a.sort()\n",
        "print(a)\n",
        "\n",
        "tup1=tuple(a)\n",
        "print(tup1)"
      ],
      "metadata": {
        "colab": {
          "base_uri": "https://localhost:8080/"
        },
        "id": "q6grmlBkVima",
        "outputId": "76b3862f-b179-4a78-a4a9-012a924ca572"
      },
      "execution_count": 39,
      "outputs": [
        {
          "output_type": "stream",
          "name": "stdout",
          "text": [
            "[1, 5, 7, 4, 3, 6, 9]\n",
            "[1, 3, 4, 5, 6, 7, 9]\n",
            "(1, 3, 4, 5, 6, 7, 9)\n"
          ]
        }
      ]
    },
    {
      "cell_type": "code",
      "source": [
        "#count how many times an element appears in a tuple\n",
        "tup1=(1,3,5,5,7,8,5,4,6,4)\n",
        "\n",
        "\n",
        "for i in tup1:\n",
        "  cnt=0\n",
        "  for j in tup1:\n",
        "    if i==j:\n",
        "      cnt+=1\n",
        "  print(\"numver of\", i ,\"is\" ,cnt)\n",
        "\n",
        "\n",
        "\n",
        "\n",
        ""
      ],
      "metadata": {
        "colab": {
          "base_uri": "https://localhost:8080/"
        },
        "id": "RGBZw230W6FH",
        "outputId": "e9b4b022-9a09-43e7-a211-b9c231379e44"
      },
      "execution_count": 83,
      "outputs": [
        {
          "output_type": "stream",
          "name": "stdout",
          "text": [
            "numver of 1 is 1\n",
            "numver of 3 is 1\n",
            "numver of 5 is 3\n",
            "numver of 5 is 3\n",
            "numver of 7 is 1\n",
            "numver of 8 is 1\n",
            "numver of 5 is 3\n",
            "numver of 4 is 2\n",
            "numver of 6 is 1\n",
            "numver of 4 is 2\n"
          ]
        }
      ]
    },
    {
      "cell_type": "markdown",
      "source": [
        "# **Dictionary**"
      ],
      "metadata": {
        "id": "b4LE6qgH8olA"
      }
    },
    {
      "cell_type": "code",
      "source": [
        "#create dic of 5 student with thier grads and print whoes pass\n",
        "dict1={\"ali\":55,\"alaa\":60,\"mohd\":45,\"raad\":41,\"hmza\":65}\n",
        "print(dict1.values())\n",
        "for i,j in dict1.items():\n",
        "  if j>=50:\n",
        "    print(\"students that pass exam : \",i)"
      ],
      "metadata": {
        "colab": {
          "base_uri": "https://localhost:8080/"
        },
        "id": "ak5yXotU-Qkx",
        "outputId": "ff7bf658-79b3-418e-d0d4-3fb0fb61d11f"
      },
      "execution_count": 17,
      "outputs": [
        {
          "output_type": "stream",
          "name": "stdout",
          "text": [
            "dict_values([55, 60, 45, 41, 65])\n",
            "students that pass exam :  ali\n",
            "students that pass exam :  alaa\n",
            "students that pass exam :  hmza\n"
          ]
        }
      ]
    },
    {
      "cell_type": "code",
      "source": [
        "#write function that merge 2 dic into 1\n",
        "dict1={\"ali\":55,\"alaa\":60,\"mohd\":45,\"raad\":41,\"hmza\":65}\n",
        "dict2={\"olyan\":95,\"omar\":69,\"ahmad\":45}\n",
        "\n",
        "def merge(fdic,sdec):\n",
        "  fdic.update(sdec)\n",
        "  return fdic\n",
        "\n",
        "print(merge(dict1,dict2))"
      ],
      "metadata": {
        "colab": {
          "base_uri": "https://localhost:8080/"
        },
        "id": "0eT_QAYrCfNP",
        "outputId": "3f8f7ed6-3787-4f06-affa-35a1cc290730"
      },
      "execution_count": 23,
      "outputs": [
        {
          "output_type": "stream",
          "name": "stdout",
          "text": [
            "{'ali': 55, 'alaa': 60, 'mohd': 45, 'raad': 41, 'hmza': 65, 'olyan': 95, 'omar': 69, 'ahmad': 45}\n"
          ]
        }
      ]
    },
    {
      "cell_type": "code",
      "source": [
        "#find key with hieghst valuewithout max fun\n",
        "dict1={\"ali\":55,\"alaa\":60,\"mohd\":45,\"raad\":91,\"hmza\":65}\n",
        "manum=i\n",
        "for i in dict1.values():\n",
        "  if i > manum:\n",
        "    manum=i\n",
        "print(\"max num bet va;ues is : \",manum)\n"
      ],
      "metadata": {
        "colab": {
          "base_uri": "https://localhost:8080/"
        },
        "id": "ar7FwPa8EEs9",
        "outputId": "0f5c6d6a-882f-4aa3-d7f1-35abff20471a"
      },
      "execution_count": 28,
      "outputs": [
        {
          "output_type": "stream",
          "name": "stdout",
          "text": [
            "max num bet va;ues is :  91\n"
          ]
        }
      ]
    },
    {
      "cell_type": "code",
      "source": [
        "dict1={\"ali\":55,\"alaa\":60,\"mohd\":45,\"raad\":91,\"hmza\":65}\n",
        "\n",
        "for x,y in dict1.items():\n",
        "  dict1.x=dict1.x\n",
        "\n",
        "print(dict1)"
      ],
      "metadata": {
        "colab": {
          "base_uri": "https://localhost:8080/",
          "height": 211
        },
        "id": "YR70CDnUFKIW",
        "outputId": "9ec77d16-1c11-4297-adca-d5a2b433f592"
      },
      "execution_count": 65,
      "outputs": [
        {
          "output_type": "error",
          "ename": "AttributeError",
          "evalue": "'dict' object has no attribute 'x'",
          "traceback": [
            "\u001b[0;31m---------------------------------------------------------------------------\u001b[0m",
            "\u001b[0;31mAttributeError\u001b[0m                            Traceback (most recent call last)",
            "\u001b[0;32m<ipython-input-65-01106979fe81>\u001b[0m in \u001b[0;36m<cell line: 0>\u001b[0;34m()\u001b[0m\n\u001b[1;32m      2\u001b[0m \u001b[0;34m\u001b[0m\u001b[0m\n\u001b[1;32m      3\u001b[0m \u001b[0;32mfor\u001b[0m \u001b[0mx\u001b[0m\u001b[0;34m,\u001b[0m\u001b[0my\u001b[0m \u001b[0;32min\u001b[0m \u001b[0mdict1\u001b[0m\u001b[0;34m.\u001b[0m\u001b[0mitems\u001b[0m\u001b[0;34m(\u001b[0m\u001b[0;34m)\u001b[0m\u001b[0;34m:\u001b[0m\u001b[0;34m\u001b[0m\u001b[0;34m\u001b[0m\u001b[0m\n\u001b[0;32m----> 4\u001b[0;31m   \u001b[0mdict1\u001b[0m\u001b[0;34m.\u001b[0m\u001b[0mx\u001b[0m\u001b[0;34m=\u001b[0m\u001b[0mdict1\u001b[0m\u001b[0;34m.\u001b[0m\u001b[0mx\u001b[0m\u001b[0;34m\u001b[0m\u001b[0;34m\u001b[0m\u001b[0m\n\u001b[0m\u001b[1;32m      5\u001b[0m \u001b[0;34m\u001b[0m\u001b[0m\n\u001b[1;32m      6\u001b[0m \u001b[0mprint\u001b[0m\u001b[0;34m(\u001b[0m\u001b[0mdict1\u001b[0m\u001b[0;34m)\u001b[0m\u001b[0;34m\u001b[0m\u001b[0;34m\u001b[0m\u001b[0m\n",
            "\u001b[0;31mAttributeError\u001b[0m: 'dict' object has no attribute 'x'"
          ]
        }
      ]
    },
    {
      "cell_type": "code",
      "source": [
        "dict1={\"ali\":55,\"alaa\":60,\"mohd\":45,\"raad\":91,\"hmza\":65}\n",
        "for x in dict1.keys():\n",
        "\n",
        "  for z in x:\n",
        "    cnt=0\n",
        "    for y in x:\n",
        "\n",
        "      if y==z:\n",
        "        cnt+=1\n",
        "    print(cnt,z)\n"
      ],
      "metadata": {
        "colab": {
          "base_uri": "https://localhost:8080/"
        },
        "id": "KFMqMR5GJGae",
        "outputId": "b0bf6504-3358-4c43-c990-890ce5d0870a"
      },
      "execution_count": 101,
      "outputs": [
        {
          "output_type": "stream",
          "name": "stdout",
          "text": [
            "1 a\n",
            "1 l\n",
            "1 i\n",
            "3 a\n",
            "1 l\n",
            "3 a\n",
            "3 a\n",
            "1 m\n",
            "1 o\n",
            "1 h\n",
            "1 d\n",
            "1 r\n",
            "2 a\n",
            "2 a\n",
            "1 d\n",
            "1 h\n",
            "1 m\n",
            "1 z\n",
            "1 a\n"
          ]
        }
      ]
    },
    {
      "cell_type": "markdown",
      "source": [
        "# **SET**"
      ],
      "metadata": {
        "id": "tt7Ay5E6b6Nh"
      }
    },
    {
      "cell_type": "code",
      "source": [
        "#create 2 sets and print union and intersection bet them\n",
        "set1={1,2,4,\"ali\"}\n",
        "set2={2,1,5,\"omar\"}\n",
        "z=set1.intersection(set2)\n",
        "print(\"intersection is \",z)\n",
        "y=set1.union(set2)\n",
        "print(\"union is \",y)\n"
      ],
      "metadata": {
        "colab": {
          "base_uri": "https://localhost:8080/"
        },
        "id": "QlutqTb1cB-Y",
        "outputId": "878dea7d-0c47-4d28-f5ad-ccc6e9962615"
      },
      "execution_count": 102,
      "outputs": [
        {
          "output_type": "stream",
          "name": "stdout",
          "text": [
            "intersection is  {1, 2}\n",
            "union is  {1, 2, 'omar', 4, 5, 'ali'}\n"
          ]
        }
      ]
    },
    {
      "cell_type": "code",
      "source": [
        "#remove duplicate from list by converting it to set then back to list\n",
        "list1=[2,5,5,6,7,7,8,9,9,9]\n",
        "print(\"this is list : \",list1)\n",
        "\n",
        "list2=set(list1)\n",
        "print(\"after remove any duplicate value\",list2)"
      ],
      "metadata": {
        "colab": {
          "base_uri": "https://localhost:8080/"
        },
        "id": "IS2hG02nd-6M",
        "outputId": "8bcd13a1-1f49-48ac-d7c2-e4eb0e6cb58e"
      },
      "execution_count": 104,
      "outputs": [
        {
          "output_type": "stream",
          "name": "stdout",
          "text": [
            "this is list :  [2, 5, 5, 6, 7, 7, 8, 9, 9, 9]\n",
            "after remove any duplicate value {2, 5, 6, 7, 8, 9}\n"
          ]
        }
      ]
    },
    {
      "cell_type": "code",
      "source": [
        "#function to check if 2 set are disjoint\n",
        "set1={1,2,4,\"ali\"}\n",
        "set2={2,1,5,\"omar\"}\n",
        "\n",
        "def disjoint(x,y):\n",
        "  w=x.intersection(y)\n",
        "  if len(w)==0:\n",
        "    print(\"no common elements\")\n",
        "  else:\n",
        "    print(\"we have common elements\")\n",
        "\n",
        "disjoint(set1,set2)"
      ],
      "metadata": {
        "colab": {
          "base_uri": "https://localhost:8080/"
        },
        "id": "aeVoBZFbeely",
        "outputId": "d6b08256-206f-45cb-fcda-d3bf56acfdcc"
      },
      "execution_count": 108,
      "outputs": [
        {
          "output_type": "stream",
          "name": "stdout",
          "text": [
            "we have common elements\n"
          ]
        }
      ]
    },
    {
      "cell_type": "code",
      "source": [
        "#find the symm diff between 2 sets\n",
        "set1={1,2,4,\"ali\"}\n",
        "set2={2,1,5,\"omar\"}\n",
        "list1=[]\n",
        "x=set1.intersection(set2)\n",
        "print(x)\n",
        "y=set1.union(set2)\n",
        "print(y)\n",
        "for i in y:\n",
        "  if i not in x:\n",
        "    list1.append(i)\n",
        "print(set(list1))\n",
        "\n",
        "\n"
      ],
      "metadata": {
        "colab": {
          "base_uri": "https://localhost:8080/"
        },
        "id": "7PiUQGm4epkH",
        "outputId": "7527cee7-ff79-41fe-b65f-d1dc9aa436a4"
      },
      "execution_count": 120,
      "outputs": [
        {
          "output_type": "stream",
          "name": "stdout",
          "text": [
            "{1, 2}\n",
            "{1, 2, 'omar', 4, 5, 'ali'}\n",
            "{'omar', 4, 5, 'ali'}\n"
          ]
        }
      ]
    },
    {
      "cell_type": "markdown",
      "source": [
        "# **IF CONDITION**"
      ],
      "metadata": {
        "id": "F5dlyN-8ihaW"
      }
    },
    {
      "cell_type": "code",
      "source": [
        "#write programm that checks if a number is +ve,-ve,o\n",
        "x=0\n",
        "\n",
        "if x>0:\n",
        "  print(\"this number is positive\")\n",
        "elif x<0:\n",
        "    print(\"this number is negative\")\n",
        "else:\n",
        "  print(\"this number is zero\")"
      ],
      "metadata": {
        "colab": {
          "base_uri": "https://localhost:8080/"
        },
        "id": "OzQlSsZ_fqpJ",
        "outputId": "93e23b05-9696-45b0-e6be-2adf6019794c"
      },
      "execution_count": 127,
      "outputs": [
        {
          "output_type": "stream",
          "name": "stdout",
          "text": [
            "this number is zero\n"
          ]
        }
      ]
    },
    {
      "cell_type": "code",
      "source": [
        "#function to check leap year\n",
        "x=input(\"insert year\")\n",
        "x=int(x)\n",
        "def leapyear(x):\n",
        "  if x%4==0 and x%100!=0:\n",
        "    print(\"this is leap year\")\n",
        "  else:\n",
        "    print(\"this is not leap year\")\n",
        "leapyear(x)\n"
      ],
      "metadata": {
        "colab": {
          "base_uri": "https://localhost:8080/"
        },
        "id": "8c_tPY86jfdZ",
        "outputId": "b781df8c-8be1-4131-f96a-0b607e355420"
      },
      "execution_count": 133,
      "outputs": [
        {
          "output_type": "stream",
          "name": "stdout",
          "text": [
            "insert year2020\n",
            "this is leap year\n"
          ]
        }
      ]
    },
    {
      "cell_type": "code",
      "source": [
        "#program to check if a char is vowel or constant\n",
        "sttr=\"hmza alshehab\"\n",
        "ela=\"aeiou\"\n",
        "for i in sttr:\n",
        "  if i in ela:\n",
        "    print(\"this char \",i,\"is vowel\")\n",
        "  else:\n",
        "    print(\"this char \",i,\"is constant\")\n"
      ],
      "metadata": {
        "colab": {
          "base_uri": "https://localhost:8080/"
        },
        "id": "Qfl5mxL_meCa",
        "outputId": "5423a2e0-3e7c-4489-ee04-852cbe9084a8"
      },
      "execution_count": 136,
      "outputs": [
        {
          "output_type": "stream",
          "name": "stdout",
          "text": [
            "this char  h is constant\n",
            "this char  m is constant\n",
            "this char  z is constant\n",
            "this char  a is vowel\n",
            "this char    is constant\n",
            "this char  a is vowel\n",
            "this char  l is constant\n",
            "this char  s is constant\n",
            "this char  h is constant\n",
            "this char  e is vowel\n",
            "this char  h is constant\n",
            "this char  a is vowel\n",
            "this char  b is constant\n"
          ]
        }
      ]
    },
    {
      "cell_type": "markdown",
      "source": [
        "# **WHILE loop**"
      ],
      "metadata": {
        "id": "o-HjD6sToN2J"
      }
    },
    {
      "cell_type": "code",
      "source": [
        "#prog to print numbers from 1 to 100 and stop if number divisable by 17\n",
        "i=1\n",
        "while i <100:\n",
        "  if i % 17==0:\n",
        "    break\n",
        "\n",
        "  print(i)\n",
        "  i+=1\n",
        ""
      ],
      "metadata": {
        "colab": {
          "base_uri": "https://localhost:8080/"
        },
        "id": "YqW3UNbToSkm",
        "outputId": "651b3e2d-535d-45a0-d31e-6f19e1c6c00f"
      },
      "execution_count": 155,
      "outputs": [
        {
          "output_type": "stream",
          "name": "stdout",
          "text": [
            "1\n",
            "2\n",
            "3\n",
            "4\n",
            "5\n",
            "6\n",
            "7\n",
            "8\n",
            "9\n",
            "10\n",
            "11\n",
            "12\n",
            "13\n",
            "14\n",
            "15\n",
            "16\n"
          ]
        }
      ]
    },
    {
      "cell_type": "code",
      "source": [
        "x = input(\"insert number\")\n",
        "list1 = []\n",
        "while x != '-1':\n",
        "    x_int = int(x)\n",
        "    list1.append(x_int)\n",
        "    x = input(\"insert number\")\n",
        "print(\"sum is :\",sum(list1))\n"
      ],
      "metadata": {
        "colab": {
          "base_uri": "https://localhost:8080/"
        },
        "id": "Vx4ON215r19R",
        "outputId": "01199d48-60ae-4b53-dd9a-6619159213c1"
      },
      "execution_count": 169,
      "outputs": [
        {
          "output_type": "stream",
          "name": "stdout",
          "text": [
            "insert number-1\n",
            "sum is : 0\n"
          ]
        }
      ]
    },
    {
      "cell_type": "code",
      "source": [
        "i=1\n",
        "while i <=50:\n",
        "  if i % 2 !=0:\n",
        "    print(\"this number is odd :\",i)\n",
        "  i+=1\n",
        ""
      ],
      "metadata": {
        "colab": {
          "base_uri": "https://localhost:8080/"
        },
        "id": "hc2KyHkxuu4g",
        "outputId": "0baf875f-16b5-4d4d-9b96-248a02b274f8"
      },
      "execution_count": 173,
      "outputs": [
        {
          "output_type": "stream",
          "name": "stdout",
          "text": [
            "this number is odd : 1\n",
            "this number is odd : 3\n",
            "this number is odd : 5\n",
            "this number is odd : 7\n",
            "this number is odd : 9\n",
            "this number is odd : 11\n",
            "this number is odd : 13\n",
            "this number is odd : 15\n",
            "this number is odd : 17\n",
            "this number is odd : 19\n",
            "this number is odd : 21\n",
            "this number is odd : 23\n",
            "this number is odd : 25\n",
            "this number is odd : 27\n",
            "this number is odd : 29\n",
            "this number is odd : 31\n",
            "this number is odd : 33\n",
            "this number is odd : 35\n",
            "this number is odd : 37\n",
            "this number is odd : 39\n",
            "this number is odd : 41\n",
            "this number is odd : 43\n",
            "this number is odd : 45\n",
            "this number is odd : 47\n",
            "this number is odd : 49\n"
          ]
        }
      ]
    },
    {
      "cell_type": "markdown",
      "source": [
        "# **FOR loop**"
      ],
      "metadata": {
        "id": "jglrX3fRyFmX"
      }
    },
    {
      "cell_type": "code",
      "source": [
        "#print the multiplication table from 1 to 10 for given number\n",
        "x=int(input(\"insert number\"))\n",
        "\n",
        "for i in range(10):\n",
        "  mul=x*i\n",
        "  print(x,\" * \" ,i, \"is : \" ,mul)"
      ],
      "metadata": {
        "colab": {
          "base_uri": "https://localhost:8080/"
        },
        "id": "sjK6G1zVyFCJ",
        "outputId": "d4125925-a396-41e3-eded-738d1f26b05f"
      },
      "execution_count": 180,
      "outputs": [
        {
          "output_type": "stream",
          "name": "stdout",
          "text": [
            "insert number5\n",
            "5  *  0 is :  0\n",
            "5  *  1 is :  5\n",
            "5  *  2 is :  10\n",
            "5  *  3 is :  15\n",
            "5  *  4 is :  20\n",
            "5  *  5 is :  25\n",
            "5  *  6 is :  30\n",
            "5  *  7 is :  35\n",
            "5  *  8 is :  40\n",
            "5  *  9 is :  45\n"
          ]
        }
      ]
    },
    {
      "cell_type": "code",
      "source": [
        "#count the vowels number of given string\n",
        "str1=\"hmza alshehab\"\n",
        "vowel=\"aeiou\"\n",
        "cnt=0\n",
        "for i in str1:\n",
        "  if i in vowel:\n",
        "    cnt+=1\n",
        "print(\"the number of vowel char in given string is : \",cnt)"
      ],
      "metadata": {
        "colab": {
          "base_uri": "https://localhost:8080/"
        },
        "id": "uuBoB7K_0gg6",
        "outputId": "f3319387-56dc-4c72-e043-eaf14aca2bee"
      },
      "execution_count": 185,
      "outputs": [
        {
          "output_type": "stream",
          "name": "stdout",
          "text": [
            "the number of vowel char in given string is :  4\n"
          ]
        }
      ]
    },
    {
      "cell_type": "code",
      "source": [
        "#loop to list and print elements greater than 5\n",
        "list1=[5,8,7,3,6,88,7]\n",
        "for i in list1:\n",
        "  if i> 5:\n",
        "    print(i)"
      ],
      "metadata": {
        "colab": {
          "base_uri": "https://localhost:8080/"
        },
        "id": "E8kjGH6_zLth",
        "outputId": "1a3e48f6-e142-4c37-d7db-7e1e9b16f0d2"
      },
      "execution_count": 188,
      "outputs": [
        {
          "output_type": "stream",
          "name": "stdout",
          "text": [
            "8\n",
            "7\n",
            "6\n",
            "88\n",
            "7\n"
          ]
        }
      ]
    },
    {
      "cell_type": "markdown",
      "source": [
        "# **Function**"
      ],
      "metadata": {
        "id": "BX_3IM2h8Zdr"
      }
    },
    {
      "cell_type": "code",
      "source": [
        "#factorial\n",
        "def factor(n):\n",
        "  result = 1\n",
        "  for i in range(2, n + 1):\n",
        "    result *= i\n",
        "  return result\n",
        "num = 9\n",
        "print(\"Factorial is:\", factor(num))\n",
        ""
      ],
      "metadata": {
        "colab": {
          "base_uri": "https://localhost:8080/"
        },
        "id": "7AeDSUuj8crX",
        "outputId": "ed4618d1-bd0f-41f2-e6b2-8cf0dcdbe8ff"
      },
      "execution_count": 16,
      "outputs": [
        {
          "output_type": "stream",
          "name": "stdout",
          "text": [
            "Factorial is: 362880\n"
          ]
        }
      ]
    },
    {
      "cell_type": "code",
      "source": [
        "#palindrome\n",
        "str1=\"solos\"\n",
        "def palind(str1):\n",
        "  str2=\"\"\n",
        "\n",
        "  for i in range(len(str1)-1,-1,-1):\n",
        "    str2+=str1[i]\n",
        "  print(str2)\n",
        "  if str2==str1:\n",
        "    print(\"palindrome\")\n",
        "  else:\n",
        "    print(\"not palindrome\")\n",
        "\n",
        "\n",
        "palind(str1)\n"
      ],
      "metadata": {
        "colab": {
          "base_uri": "https://localhost:8080/"
        },
        "id": "wxFnlq_LBFE4",
        "outputId": "9d3ff008-1765-4d0c-943b-10d76b5be2b7"
      },
      "execution_count": 13,
      "outputs": [
        {
          "output_type": "stream",
          "name": "stdout",
          "text": [
            "solos\n",
            "palindrome\n"
          ]
        }
      ]
    },
    {
      "cell_type": "code",
      "source": [
        "#squares list item\n",
        "from math import sqrt\n",
        "\n",
        "list1 = [1, 2, 3, 4, 5, 6]\n",
        "print(list1)\n",
        "def seq(list1):\n",
        "  list2=[]\n",
        "  for i in list1:\n",
        "    new=(i**2)\n",
        "    list2.append(new)\n",
        "  print(list2)\n",
        "\n",
        "seq(list1)"
      ],
      "metadata": {
        "colab": {
          "base_uri": "https://localhost:8080/"
        },
        "id": "LOUyUbORlWzJ",
        "outputId": "e10bc238-cf5b-43fa-b9a2-035557d1fc18"
      },
      "execution_count": 23,
      "outputs": [
        {
          "output_type": "stream",
          "name": "stdout",
          "text": [
            "[1, 2, 3, 4, 5, 6]\n",
            "[1, 4, 9, 16, 25, 36]\n"
          ]
        }
      ]
    },
    {
      "cell_type": "markdown",
      "source": [
        "# **recursion**"
      ],
      "metadata": {
        "id": "V102IVF4nR2I"
      }
    },
    {
      "cell_type": "code",
      "source": [
        "def fibon(n):\n",
        "\n",
        "  if n <= 1:\n",
        "    return n\n",
        "  else:\n",
        "    return fibon(n-1) + fibon(n-2)\n",
        "\n",
        "print(fibon(10))\n"
      ],
      "metadata": {
        "colab": {
          "base_uri": "https://localhost:8080/"
        },
        "id": "mLk0unHnvGd0",
        "outputId": "e952914b-8a54-4b64-8cd2-a5c139b12cf3"
      },
      "execution_count": 26,
      "outputs": [
        {
          "output_type": "stream",
          "name": "stdout",
          "text": [
            "55\n"
          ]
        }
      ]
    },
    {
      "cell_type": "code",
      "source": [
        "def poe(x,n):\n",
        "  if n==0:\n",
        "    return 1\n",
        "  else:\n",
        "    return x*(poe(x,n-1))\n",
        "print(poe(3,2))"
      ],
      "metadata": {
        "colab": {
          "base_uri": "https://localhost:8080/"
        },
        "id": "laJTQZVCwmb8",
        "outputId": "64c249f1-0964-4248-cd07-4966570cbe66"
      },
      "execution_count": 33,
      "outputs": [
        {
          "output_type": "stream",
          "name": "stdout",
          "text": [
            "9\n"
          ]
        }
      ]
    },
    {
      "cell_type": "code",
      "source": [
        "list1=[1,2,3,4,5]\n",
        "def summ(list1):\n",
        "  if len(list1)==0:\n",
        "    return 0\n",
        "  else:\n",
        "    return list1[0]+summ(list1[1:])\n",
        "\n",
        "print(summ(list1))\n",
        ""
      ],
      "metadata": {
        "colab": {
          "base_uri": "https://localhost:8080/"
        },
        "id": "PeGs_31nx_36",
        "outputId": "9bdbdb43-7123-4644-9869-58b9d611c4db"
      },
      "execution_count": 2,
      "outputs": [
        {
          "output_type": "stream",
          "name": "stdout",
          "text": [
            "15\n"
          ]
        }
      ]
    },
    {
      "cell_type": "markdown",
      "source": [
        "# **Break and continue**"
      ],
      "metadata": {
        "id": "PVz36_KeZsmq"
      }
    },
    {
      "cell_type": "code",
      "source": [
        "#loop print 1 to 20 but skip mul of 3\n",
        "for i in range(1,20):\n",
        "  if i%3==0:\n",
        "    continue\n",
        "\n",
        "  print(i)"
      ],
      "metadata": {
        "colab": {
          "base_uri": "https://localhost:8080/"
        },
        "id": "GOYuGh3vZy3J",
        "outputId": "32826cc1-adef-4e0a-bda5-9ed9b59ddf00"
      },
      "execution_count": 5,
      "outputs": [
        {
          "output_type": "stream",
          "name": "stdout",
          "text": [
            "1\n",
            "2\n",
            "4\n",
            "5\n",
            "7\n",
            "8\n",
            "10\n",
            "11\n",
            "13\n",
            "14\n",
            "16\n",
            "17\n",
            "19\n"
          ]
        }
      ]
    },
    {
      "cell_type": "code",
      "source": [
        "#loop print from 1 to 50 and breaks loop if num divisible by 13 and 7\n",
        "for i in range(1, 50):\n",
        "    if (i % 7 == 0) and (i % 13 == 0):\n",
        "        break\n",
        "    print(i)"
      ],
      "metadata": {
        "colab": {
          "base_uri": "https://localhost:8080/"
        },
        "id": "x-NnCLb2bMd2",
        "outputId": "f350232e-93ef-4f2c-f4b7-505e7e65bda0"
      },
      "execution_count": 10,
      "outputs": [
        {
          "output_type": "stream",
          "name": "stdout",
          "text": [
            "1\n",
            "2\n",
            "3\n",
            "4\n",
            "5\n",
            "6\n",
            "7\n",
            "8\n",
            "9\n",
            "10\n",
            "11\n",
            "12\n",
            "13\n",
            "14\n",
            "15\n",
            "16\n",
            "17\n",
            "18\n",
            "19\n",
            "20\n",
            "21\n",
            "22\n",
            "23\n",
            "24\n",
            "25\n",
            "26\n",
            "27\n",
            "28\n",
            "29\n",
            "30\n",
            "31\n",
            "32\n",
            "33\n",
            "34\n",
            "35\n",
            "36\n",
            "37\n",
            "38\n",
            "39\n",
            "40\n",
            "41\n",
            "42\n",
            "43\n",
            "44\n",
            "45\n",
            "46\n",
            "47\n",
            "48\n",
            "49\n",
            "50\n",
            "51\n",
            "52\n",
            "53\n",
            "54\n",
            "55\n",
            "56\n",
            "57\n",
            "58\n",
            "59\n",
            "60\n",
            "61\n",
            "62\n",
            "63\n",
            "64\n",
            "65\n",
            "66\n",
            "67\n",
            "68\n",
            "69\n",
            "70\n",
            "71\n",
            "72\n",
            "73\n",
            "74\n",
            "75\n",
            "76\n",
            "77\n",
            "78\n",
            "79\n",
            "80\n",
            "81\n",
            "82\n",
            "83\n",
            "84\n",
            "85\n",
            "86\n",
            "87\n",
            "88\n",
            "89\n",
            "90\n"
          ]
        }
      ]
    },
    {
      "cell_type": "code",
      "source": [
        "#for loop that breaks when it find the first even num in list\n",
        "list1=[1,5,6,8,7]\n",
        "for i in list1:\n",
        "  if i%2==0:\n",
        "    break\n",
        "  print(i)"
      ],
      "metadata": {
        "colab": {
          "base_uri": "https://localhost:8080/"
        },
        "id": "Rrs6yWjHcpCh",
        "outputId": "9f3536a2-d0ff-4386-e0df-fc744bb7de5c"
      },
      "execution_count": 11,
      "outputs": [
        {
          "output_type": "stream",
          "name": "stdout",
          "text": [
            "1\n",
            "5\n"
          ]
        }
      ]
    },
    {
      "cell_type": "markdown",
      "source": [
        "# **lambda**"
      ],
      "metadata": {
        "id": "ya2vG9ESdJZw"
      }
    },
    {
      "cell_type": "code",
      "source": [
        "#sort list of tup based on second element\n",
        "list1=[(2,4),(3,9),(8,4)]\n",
        "sort_list=sorted(list1,key=lambda l:l[1] )\n",
        "print(sort_list)"
      ],
      "metadata": {
        "colab": {
          "base_uri": "https://localhost:8080/"
        },
        "id": "ErPwnZ6jdMof",
        "outputId": "4ab97eb8-9d08-47d0-a0e6-717ca42503f4"
      },
      "execution_count": 18,
      "outputs": [
        {
          "output_type": "stream",
          "name": "stdout",
          "text": [
            "[(2, 4), (8, 4), (3, 9)]\n"
          ]
        }
      ]
    },
    {
      "cell_type": "code",
      "source": [
        "#write lambda function that return squre of number\n",
        "\n",
        "seq=lambda x:x**2\n",
        "print(seq(3))"
      ],
      "metadata": {
        "colab": {
          "base_uri": "https://localhost:8080/"
        },
        "id": "fO87UGVwewNz",
        "outputId": "c2795444-774a-4ae6-c44d-fe4ec572feda"
      },
      "execution_count": 15,
      "outputs": [
        {
          "output_type": "stream",
          "name": "stdout",
          "text": [
            "9\n"
          ]
        }
      ]
    },
    {
      "cell_type": "code",
      "source": [
        "#filter out even number from list using filter and lambda function\n",
        "list1=[2,1,4,5,6,7]\n",
        "even=list(filter(lambda x:x%2==0,list1))\n",
        "print(list(even))\n"
      ],
      "metadata": {
        "colab": {
          "base_uri": "https://localhost:8080/"
        },
        "id": "SJVpN0Sog3R-",
        "outputId": "00bb0da3-6209-4622-c2a4-8112eb39af1a"
      },
      "execution_count": 20,
      "outputs": [
        {
          "output_type": "stream",
          "name": "stdout",
          "text": [
            "[2, 4, 6]\n"
          ]
        }
      ]
    },
    {
      "cell_type": "markdown",
      "source": [
        "# **OOP**"
      ],
      "metadata": {
        "id": "LqnoQpaTl970"
      }
    },
    {
      "cell_type": "code",
      "source": [
        "#create car class with (brand,model)\n",
        "class car:\n",
        "  def __init__(self,brand,model):\n",
        "    self.brand=brand\n",
        "    self.model=model\n",
        "  def car_details(self):\n",
        "    print(\"car details : \",self.brand,self.model)\n",
        "\n",
        "a=car(\"changan\",2025)\n",
        "a.car_details()"
      ],
      "metadata": {
        "colab": {
          "base_uri": "https://localhost:8080/"
        },
        "id": "kOtCBWqSqOqG",
        "outputId": "810bfab5-f905-412a-c3d1-de59d41890bd"
      },
      "execution_count": 26,
      "outputs": [
        {
          "output_type": "stream",
          "name": "stdout",
          "text": [
            "car details :  changan 2025\n"
          ]
        }
      ]
    },
    {
      "cell_type": "code",
      "source": [
        "#create parent and child classes that inherent annd add new methode\n",
        "class parent:\n",
        "  def __init__(self,name,birthday):\n",
        "    self.name=name\n",
        "    self.birthday=birthday\n",
        "\n",
        "  def full_det(self):\n",
        "    print(\"details : \",self.name,self.birthday)\n",
        "\n",
        "class child(parent):\n",
        "  def __init__(self,x,y):\n",
        "    super().__init__(x,y)\n",
        "    self.x=x\n",
        "    self.y=y\n",
        "  def nam(self):\n",
        "    print(\"only name\",self.x)\n",
        "\n",
        "a=child(\"ali\",1999)\n",
        "a.nam()\n",
        "a.full_det()"
      ],
      "metadata": {
        "colab": {
          "base_uri": "https://localhost:8080/"
        },
        "id": "PzjC9r5etH4g",
        "outputId": "dbd3a106-e116-49ec-d800-2f85b24302f1"
      },
      "execution_count": 34,
      "outputs": [
        {
          "output_type": "stream",
          "name": "stdout",
          "text": [
            "only name ali\n",
            "details :  ali 1999\n"
          ]
        }
      ]
    },
    {
      "cell_type": "code",
      "source": [
        "#write 2 classes dog and cat that both have method make_sound then call make sound ,using polyporphic\n",
        "class animal:\n",
        "  def __init__(self,animal,sound):\n",
        "    self.animal=animal\n",
        "    self.sound=sound\n",
        "  def make_sound(self):\n",
        "    print(self.sound)\n",
        "\n",
        "class dog(animal):\n",
        "  def make_sound(self):\n",
        "    print(\"dog sound\",self.sound)\n",
        "class cat(animal):\n",
        "  def make_sound(self):\n",
        "    print(\"cat sound\",self.sound)\n",
        "\n",
        "a=dog(\"dog\",\"bark\")\n",
        "a.make_sound()\n",
        "\n",
        "b=cat(\"cat \",\"meo\")\n",
        "b.make_sound()"
      ],
      "metadata": {
        "colab": {
          "base_uri": "https://localhost:8080/"
        },
        "id": "Y5Xr6I0uyfqY",
        "outputId": "3a6f97da-c50e-4d7a-91bc-aa84b12b0b8b"
      },
      "execution_count": 38,
      "outputs": [
        {
          "output_type": "stream",
          "name": "stdout",
          "text": [
            "dog sound bark\n",
            "cat sound meo\n"
          ]
        }
      ]
    },
    {
      "cell_type": "code",
      "source": [
        "#class method\n",
        "class car:\n",
        "    count = 0\n",
        "    def __init__(self):\n",
        "        car.count += 1\n",
        "\n",
        "    @classmethod\n",
        "    def get_count(cls):\n",
        "        return cls.count\n",
        "\n",
        "c1 = car()\n",
        "c2 = car()\n",
        "print(car.get_count())\n"
      ],
      "metadata": {
        "colab": {
          "base_uri": "https://localhost:8080/"
        },
        "id": "cZwYeGgx0xpP",
        "outputId": "2a973131-1615-4fb8-d824-d3238da9b95a"
      },
      "execution_count": 18,
      "outputs": [
        {
          "output_type": "stream",
          "name": "stdout",
          "text": [
            "2\n"
          ]
        }
      ]
    },
    {
      "cell_type": "code",
      "source": [
        "#abstract\n",
        "from abc import ABC, abstractmethod\n",
        "\n",
        "class shape(ABC):\n",
        "  @abstractmethod\n",
        "\n",
        "  def area():\n",
        "    pass\n",
        "class rect(shape):\n",
        "  def __init__(self,x,y):\n",
        "    self.x=x\n",
        "    self.y=y\n",
        "\n",
        "  def area(self):\n",
        "    area=self.x*self.y\n",
        "    return area\n",
        "\n",
        "class cir(shape):\n",
        "  def __init__(self,x):\n",
        "    self.x=x\n",
        "\n",
        "  def area(self):\n",
        "    area=3.14*(self.x**2)\n",
        "    return area\n",
        "\n",
        "rec=rect(4,5)\n",
        "print(rec.area())\n",
        "\n",
        "circ=cir(5)\n",
        "print(circ.area())\n",
        "\n",
        "\n",
        "\n",
        ""
      ],
      "metadata": {
        "colab": {
          "base_uri": "https://localhost:8080/"
        },
        "id": "Sai2rGEV_t6c",
        "outputId": "af68a58d-ad40-400e-ba3a-e4839cf3bf0f"
      },
      "execution_count": 47,
      "outputs": [
        {
          "output_type": "stream",
          "name": "stdout",
          "text": [
            "20\n",
            "78.5\n"
          ]
        }
      ]
    },
    {
      "cell_type": "code",
      "source": [
        "#class with private attribute ,getter and setter\n",
        "class hmza:\n",
        "  def __init__(self,name,salary):\n",
        "    self.name=name\n",
        "    self.__salary=salary\n",
        "  def get_salary(self):\n",
        "    return self.__salary\n",
        "\n",
        "  def set_salary(self,val):\n",
        "    self.__salary+=val\n",
        "\n",
        "a=hmza(\"ali\",600)\n",
        "print(a.get_salary())\n",
        "a.set_salary(5)\n",
        "print(a.get_salary())"
      ],
      "metadata": {
        "colab": {
          "base_uri": "https://localhost:8080/"
        },
        "id": "XrdV9dK0UagX",
        "outputId": "0ec45e2a-8adf-489e-e4d2-eee4980d4370"
      },
      "execution_count": 55,
      "outputs": [
        {
          "output_type": "stream",
          "name": "stdout",
          "text": [
            "600\n",
            "605\n"
          ]
        }
      ]
    },
    {
      "cell_type": "markdown",
      "source": [
        "# **JSON**"
      ],
      "metadata": {
        "id": "0CPFTHsRm0Ch"
      }
    },
    {
      "cell_type": "code",
      "source": [
        "#convert dic to json\n",
        "data_dic={\"name\":\"ali\",\"age\":24,\"city\":\"amman\"}\n",
        "jso_data=json.dumps(data_dic)\n",
        "print(jso_data)"
      ],
      "metadata": {
        "colab": {
          "base_uri": "https://localhost:8080/"
        },
        "id": "ERAvRSKzm21K",
        "outputId": "8c36956c-5f28-4f6b-f165-00e10779fb34"
      },
      "execution_count": 57,
      "outputs": [
        {
          "output_type": "stream",
          "name": "stdout",
          "text": [
            "{\"name\": \"ali\", \"age\": 24, \"city\": \"amman\"}\n"
          ]
        }
      ]
    },
    {
      "cell_type": "code",
      "source": [
        "#read data from json file and print it\n",
        "import json\n",
        "json_data='{\"name\":\"ali\",\"age\":24,\"city\":\"amman\"}'\n",
        "data_dict=json.loads(json_data)\n",
        "print(data_dict)"
      ],
      "metadata": {
        "colab": {
          "base_uri": "https://localhost:8080/"
        },
        "id": "tXqQ205eoFJp",
        "outputId": "d79ff2d5-93f2-4c76-fb51-51ea3ffbfe8b"
      },
      "execution_count": 56,
      "outputs": [
        {
          "output_type": "stream",
          "name": "stdout",
          "text": [
            "{'name': 'ali', 'age': 24, 'city': 'amman'}\n"
          ]
        }
      ]
    },
    {
      "cell_type": "code",
      "source": [
        "#write python object into json file\n",
        "data_dic={\"name\":\"ali\",\"age\":24,\"city\":\"amman\"}\n",
        "jso_data=json.dumps(data_dic)\n",
        "print(jso_data)"
      ],
      "metadata": {
        "id": "44cjjxVMotg2"
      },
      "execution_count": null,
      "outputs": []
    },
    {
      "cell_type": "markdown",
      "source": [
        "# **numpy**"
      ],
      "metadata": {
        "id": "G_0VXbNGqDQ1"
      }
    },
    {
      "cell_type": "code",
      "source": [
        "#create 2d numpy array of zeros\n",
        "import numpy as np\n",
        "arr1=np.array([[0,0,0],[0,0,0]])\n",
        "print(arr1)\n",
        "print(arr1.ndim)"
      ],
      "metadata": {
        "colab": {
          "base_uri": "https://localhost:8080/"
        },
        "id": "BhcCQ7XjqGfR",
        "outputId": "619a65aa-d59a-40c4-c366-f168f3217794"
      },
      "execution_count": 61,
      "outputs": [
        {
          "output_type": "stream",
          "name": "stdout",
          "text": [
            "[[0 0 0]\n",
            " [0 0 0]]\n",
            "2\n"
          ]
        }
      ]
    },
    {
      "cell_type": "code",
      "source": [
        "#1D numpy array of 10 rendom int bet 1 to 100\n",
        "import numpy as np\n",
        "randarr=np.random.randint(1,100,10)\n",
        "print(randarr)"
      ],
      "metadata": {
        "colab": {
          "base_uri": "https://localhost:8080/"
        },
        "id": "GcmUDz92uGKx",
        "outputId": "3beaf2e9-755b-49d9-9c76-d86bf09e2321"
      },
      "execution_count": 62,
      "outputs": [
        {
          "output_type": "stream",
          "name": "stdout",
          "text": [
            "[57 84 84 83 95 98 47 17 86 92]\n"
          ]
        }
      ]
    },
    {
      "cell_type": "code",
      "source": [
        "#maen ,median and std for numpy array\n",
        "import numpy as np\n",
        "arr1=np.array([1,2,4,5,7,8,9])\n",
        "print(arr1.mean())\n",
        "print(np.median(arr1))\n",
        "print(arr1.std())"
      ],
      "metadata": {
        "colab": {
          "base_uri": "https://localhost:8080/"
        },
        "id": "BC_hhvHgvzi8",
        "outputId": "4d771aec-a71a-43d0-abd0-78b43fd47f01"
      },
      "execution_count": 66,
      "outputs": [
        {
          "output_type": "stream",
          "name": "stdout",
          "text": [
            "5.142857142857143\n",
            "5.0\n",
            "2.799416848895061\n"
          ]
        }
      ]
    },
    {
      "cell_type": "code",
      "source": [
        "#reshape to 2 D\n",
        "import numpy as np\n",
        "arr1=np.array([1,2,4,5,7,8])\n",
        "print(arr1.shape)\n",
        "print(arr1.reshape(2,3))"
      ],
      "metadata": {
        "colab": {
          "base_uri": "https://localhost:8080/"
        },
        "id": "-ANfmEfUwmUr",
        "outputId": "d2258bde-38df-4138-d120-3dcd87807f11"
      },
      "execution_count": 70,
      "outputs": [
        {
          "output_type": "stream",
          "name": "stdout",
          "text": [
            "(6,)\n",
            "[[1 2 4]\n",
            " [5 7 8]]\n"
          ]
        }
      ]
    },
    {
      "cell_type": "code",
      "source": [
        "#element wise addition\n",
        "import numpy as np\n",
        "arr1=np.array([1,2,4,5,7,8])\n",
        "arr2=np.array([1,6,8,1,7,10])\n",
        "np.add(arr1,arr2)\n"
      ],
      "metadata": {
        "colab": {
          "base_uri": "https://localhost:8080/"
        },
        "id": "oDWR_23gxXen",
        "outputId": "45773225-8ef4-4108-e695-c838ffac4b37"
      },
      "execution_count": 1,
      "outputs": [
        {
          "output_type": "execute_result",
          "data": {
            "text/plain": [
              "array([ 2,  8, 12,  6, 14, 18])"
            ]
          },
          "metadata": {},
          "execution_count": 1
        }
      ]
    },
    {
      "cell_type": "code",
      "source": [
        "#matrix mul\n",
        "import numpy as np\n",
        "arr1=np.array([[2,4,6],[8,10,12]])\n",
        "arr2=np.array([[7, 8],\n",
        "              [9, 10],\n",
        "              [11, 12]])\n",
        "\n",
        "result = np.dot(arr1, arr2)\n",
        "print(result)"
      ],
      "metadata": {
        "colab": {
          "base_uri": "https://localhost:8080/"
        },
        "id": "EUJtw8b5Zk-0",
        "outputId": "7b5eddb0-7fec-4585-ffd3-a3097323c4f4"
      },
      "execution_count": 3,
      "outputs": [
        {
          "output_type": "stream",
          "name": "stdout",
          "text": [
            "[[116 128]\n",
            " [278 308]]\n"
          ]
        }
      ]
    },
    {
      "cell_type": "code",
      "source": [
        "#find max and min valurs and their indices\n",
        "arr1=np.array([[2,4,6],[8,10,12]])\n",
        "print(np.max(arr1))\n",
        "print(np.argmax(arr1))\n",
        "print(np.min(arr1))\n",
        "print(np.argmin(arr1))"
      ],
      "metadata": {
        "colab": {
          "base_uri": "https://localhost:8080/"
        },
        "id": "U9gf30XiahBj",
        "outputId": "f375a251-2ad0-496c-a580-683c51002709"
      },
      "execution_count": 6,
      "outputs": [
        {
          "output_type": "stream",
          "name": "stdout",
          "text": [
            "12\n",
            "5\n",
            "2\n",
            "0\n"
          ]
        }
      ]
    },
    {
      "cell_type": "code",
      "source": [
        "#slice nupy array to get only 3 rows,and 2 column\n",
        "import numpy as np\n",
        "arr1=np.array([[2,4,5],\n",
        "       [5,6,7],\n",
        "       [3,2,9],[8,4,6]])\n",
        "\n",
        "print(arr1[:3,:2])"
      ],
      "metadata": {
        "colab": {
          "base_uri": "https://localhost:8080/"
        },
        "id": "FccLkC55bRVx",
        "outputId": "659836b9-a63f-465d-d06b-d18715d05e24"
      },
      "execution_count": 17,
      "outputs": [
        {
          "output_type": "stream",
          "name": "stdout",
          "text": [
            "[[2 4]\n",
            " [5 6]\n",
            " [3 2]]\n"
          ]
        }
      ]
    }
  ]
}